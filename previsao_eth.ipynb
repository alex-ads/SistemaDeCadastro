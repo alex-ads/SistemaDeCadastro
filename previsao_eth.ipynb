{
  "nbformat": 4,
  "nbformat_minor": 0,
  "metadata": {
    "colab": {
      "provenance": [],
      "authorship_tag": "ABX9TyNs+ZTc+THIHKuC2Xg1TUk5",
      "include_colab_link": true
    },
    "kernelspec": {
      "name": "python3",
      "display_name": "Python 3"
    },
    "language_info": {
      "name": "python"
    }
  },
  "cells": [
    {
      "cell_type": "markdown",
      "metadata": {
        "id": "view-in-github",
        "colab_type": "text"
      },
      "source": [
        "<a href=\"https://colab.research.google.com/github/alex-ads/SistemaDeCadastro/blob/main/previsao_eth.ipynb\" target=\"_parent\"><img src=\"https://colab.research.google.com/assets/colab-badge.svg\" alt=\"Open In Colab\"/></a>"
      ]
    },
    {
      "cell_type": "markdown",
      "source": [],
      "metadata": {
        "id": "lDe_S9VX0uPK"
      }
    },
    {
      "cell_type": "code",
      "source": [
        "pip install yfinance"
      ],
      "metadata": {
        "id": "cxDtOn2BaD5R"
      },
      "execution_count": null,
      "outputs": []
    },
    {
      "cell_type": "code",
      "execution_count": null,
      "metadata": {
        "id": "nAAQDeyti9OX"
      },
      "outputs": [],
      "source": [
        "#Import de blibliotecas\n",
        "import pandas as pd\n",
        "import yfinance as yf\n",
        "from prophet import Prophet\n",
        "from datetime import datetime\n",
        "from datetime import timedelta\n",
        "import plotly.graph_objects as go\n",
        "from prophet.plot import  plot_plotly, plot_components_plotly\n",
        "import warnings\n",
        "warnings.filterwarnings('ignore')\n",
        "pd.options.display.float_format = '${:,.2f}'.format"
      ]
    },
    {
      "cell_type": "code",
      "source": [
        "hj = datetime.today().strftime('%Y-%m-%d')\n",
        "data_ini = '2016-01-01'\n",
        "df_eth = yf.download('ETH-USD', data_ini, hj)\n",
        "df_eth.tail()\n"
      ],
      "metadata": {
        "id": "C85EkX4Vy2E7"
      },
      "execution_count": null,
      "outputs": []
    },
    {
      "cell_type": "code",
      "source": [
        "df_eth.reset_index(inplace=True)"
      ],
      "metadata": {
        "id": "WAFgJwyUdVME"
      },
      "execution_count": null,
      "outputs": []
    },
    {
      "cell_type": "code",
      "source": [
        "df_eth"
      ],
      "metadata": {
        "id": "6_sjnVEiewfk"
      },
      "execution_count": null,
      "outputs": []
    },
    {
      "cell_type": "code",
      "source": [
        "df = df_eth[[\"Date\", \"Adj Close\"]]\n",
        "df.rename(columns = {'Date': 'ds', 'Adj Close': 'y'}, inplace=True)"
      ],
      "metadata": {
        "id": "y-Z0VbNYfQG5"
      },
      "execution_count": null,
      "outputs": []
    },
    {
      "cell_type": "code",
      "source": [
        "df"
      ],
      "metadata": {
        "id": "qJX2iceFhk7n"
      },
      "execution_count": null,
      "outputs": []
    },
    {
      "cell_type": "code",
      "source": [
        "# Grafico Preço de fechamento\n",
        "fig = go.Figure()\n",
        "fig.add_trace(go.Scatter(x=df['ds'], y = df['y']))"
      ],
      "metadata": {
        "id": "xnt4et78hyUP"
      },
      "execution_count": null,
      "outputs": []
    },
    {
      "cell_type": "code",
      "source": [
        "model = Prophet(seasonality_mode='multiplicative')\n",
        "model.fit(df)"
      ],
      "metadata": {
        "id": "hOxZ23rhisY_"
      },
      "execution_count": null,
      "outputs": []
    },
    {
      "cell_type": "code",
      "source": [
        "#Criar df com datas no futuro\n",
        "df_futuro = model.make_future_dataframe(periods=60)\n",
        "df_futuro.tail(60)"
      ],
      "metadata": {
        "id": "P-y-_ktZjFVo"
      },
      "execution_count": null,
      "outputs": []
    },
    {
      "cell_type": "code",
      "source": [
        "# Previsãp\n",
        "previsao = model.predict(df_futuro)\n",
        "previsao"
      ],
      "metadata": {
        "id": "ZdlFXyIF7J6O"
      },
      "execution_count": null,
      "outputs": []
    },
    {
      "cell_type": "code",
      "source": [
        "previsao[['ds', 'yhat', 'yhat_lower', 'yhat_upper']].tail(60)"
      ],
      "metadata": {
        "id": "qQ-kZqhQ61KO"
      },
      "execution_count": null,
      "outputs": []
    },
    {
      "cell_type": "code",
      "source": [
        "plot_plotly(model, previsao)"
      ],
      "metadata": {
        "id": "66MCeBewrXkU"
      },
      "execution_count": null,
      "outputs": []
    },
    {
      "cell_type": "code",
      "source": [
        "# grafico\n",
        "plot_plotly(model, previsao)"
      ],
      "metadata": {
        "id": "0qERBzx6sG5x"
      },
      "execution_count": null,
      "outputs": []
    },
    {
      "cell_type": "code",
      "source": [
        "plot_components_plotly(model, previsao)"
      ],
      "metadata": {
        "id": "MA2l1-rEs5Aw"
      },
      "execution_count": null,
      "outputs": []
    }
  ]
}